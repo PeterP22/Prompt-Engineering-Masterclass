{
 "cells": [
  {
   "cell_type": "markdown",
   "metadata": {},
   "source": [
    "## Prompt Engineering Practice by Peter Preketes "
   ]
  },
  {
   "cell_type": "code",
   "execution_count": 1,
   "metadata": {},
   "outputs": [],
   "source": [
    "import os\n",
    "from dotenv import load_dotenv\n",
    "load_dotenv()\n",
    "openai_api_key = os.getenv(\"OPENAI_API_KEY\")\n",
    "os.environ[\"OPENAI_API_KEY\"] = openai_api_key"
   ]
  },
  {
   "cell_type": "markdown",
   "metadata": {},
   "source": [
    "- Large Language Models (LLMs) are powerful AI systems that can process and generate human-like text based on the patterns and knowledge learned from vast amounts of training data.\n",
    "- They have shown remarkable capabilities in various natural language tasks, such as text completion, question answering, summarization, and even code generation."
   ]
  },
  {
   "cell_type": "markdown",
   "metadata": {},
   "source": [
    "- However, to fully harness the potential of LLMs, it is crucial to understand and apply effective prompt engineering techniques. \n",
    "- Prompt engineering refers to the process of designing and optimizing the input prompts given to LLMs to guide their behavior and outputs towards desired outcomes.\n",
    "- In this notebook, I will be exploring several key prompt engineering techniques in detail. "
   ]
  },
  {
   "cell_type": "code",
   "execution_count": 2,
   "metadata": {},
   "outputs": [],
   "source": [
    "# setup the methods for the OpenAI API calls \n",
    "from openai import OpenAI\n",
    "\n",
    "class GPT4Assistant:\n",
    "    def __init__(self, model=\"gpt-4-turbo\", system_message=\"You are a helpful assistant.\"):\n",
    "        self.client = OpenAI()\n",
    "        self.model = model\n",
    "        self.system_message = system_message\n",
    "\n",
    "    def set_model(self, model):\n",
    "        self.model = model\n",
    "\n",
    "    def set_system_message(self, system_message):\n",
    "        self.system_message = system_message\n",
    "\n",
    "    def generate_response(self, query):\n",
    "        response = self.client.chat.completions.create(\n",
    "            model=self.model,\n",
    "            messages=[\n",
    "                {\"role\": \"system\", \"content\": f\"{self.system_message}.\"},\n",
    "                {\"role\": \"user\", \"content\": f\"Hi, I have a question about {query}.\"},\n",
    "            ]\n",
    "        )\n",
    "        return response.choices[0].message.content\n"
   ]
  },
  {
   "cell_type": "code",
   "execution_count": 3,
   "metadata": {},
   "outputs": [],
   "source": [
    "assistant = GPT4Assistant() # instantiate the assistant object "
   ]
  },
  {
   "cell_type": "code",
   "execution_count": 4,
   "metadata": {},
   "outputs": [
    {
     "name": "stdout",
     "output_type": "stream",
     "text": [
      "Hello! That's a profound question that has intrigued philosophers, theologians, scientists, and thinkers of all kinds for centuries. The meaning of life varies greatly depending on cultural, personal, religious, and philosophical perspectives.\n",
      "\n",
      "Some argue that the meaning of life is to seek happiness and fulfillment, while others believe it is to serve others and contribute to society. In many religious contexts, the meaning of life might be to fulfill a divine purpose or to advance spiritually.\n",
      "\n",
      "Philosophically, there are numerous theories: existentialists, for example, suggest that life inherently has no meaning, and it's up to each individual to give their life meaning through their actions and choices.\n",
      "\n",
      "What are your thoughts or specific areas of interest about the meaning of life? It could help tailor the discussion more to what you're seeking.\n"
     ]
    }
   ],
   "source": [
    "# Example usage without changing the system message \n",
    "query = \"the meaning of life\"\n",
    "response = assistant.generate_response(query)\n",
    "print(response)"
   ]
  },
  {
   "cell_type": "code",
   "execution_count": 5,
   "metadata": {},
   "outputs": [
    {
     "name": "stdout",
     "output_type": "stream",
     "text": [
      "Hello! The question of the meaning of life is a profound and timeless inquiry that has engaged thinkers, philosophers, and religious leaders throughout history. Generally, the meaning of life refers to the significance, purpose, or overarching goal of human existence.\n",
      "\n",
      "There are various perspectives on this topic, depending on philosophical, religious, or secular viewpoints:\n",
      "\n",
      "1. **Existential perspective**: This approach often considers life inherently meaningless due to the absence of a predetermined cosmic order, but suggests that individuals can create their own meaning through their choices and actions.\n",
      "\n",
      "2. **Religious perspective**: Many religions provide specific answers to the meaning of life. For instance, in Christianity, the meaning of life might be understood as living in a way that honors and glorifies God, aiming for eternal salvation. In Buddhism, it's often about achieving enlightenment and escaping the cycle of rebirth.\n",
      "\n",
      "3. **Humanistic perspective**: This view emphasizes personal growth, self-actualization, and the pursuit of happiness. Humanists believe that individuals create meaning for themselves through connections, achievements, and contributing positively to society.\n",
      "\n",
      "4. **Scientific/Naturalistic perspective**: From a purely scientific viewpoint, life might be seen as a product of evolutionary processes with no inherent purpose other than survival and reproduction. However, many argue that understanding the complexity and beauty of the universe adds a layer of wonder and significance to human life.\n",
      "\n",
      "5. **Philosophical Absurdism**: Proposed by Albert Camus, this philosophy explores the conflict between humans' natural tendency to seek inherent value and meaning in life and the cold, indifferent universe that offers none. Camus suggested that one should embrace the absurdity of this condition without resorting to false hopes.\n",
      "\n",
      "Ultimately, the question of life's meaning is deeply personal and can vary greatly from one person to another. It often involves a mixture of personal beliefs, experiences, philosophical thought, and cultural background. For some, participating in meaningful relationships or achieving personal goals provides a sense of purpose, while others might find their answer in service to humanity or a devotion to spiritual practices. How do you currently view or explore the meaning of your own life?\n"
     ]
    }
   ],
   "source": [
    "# Generate a response with the updated configuration\n",
    "assistant.set_system_message(\"You are a philosophical assistant who provides insightful answers around the intracies of human life.\")\n",
    "response_updated = assistant.generate_response(query)\n",
    "print(response_updated)"
   ]
  },
  {
   "cell_type": "code",
   "execution_count": 6,
   "metadata": {},
   "outputs": [],
   "source": [
    "# Technique 1: Persona-based prompting\n",
    "assistant.set_system_message(\"You are a friendly and enthusiastic assistant who loves to help users. You love using kettlebells and bodyweight exercises primarily along with swimming.\")\n",
    "query = \"What are some good exercises for staying fit?\"\n",
    "response_persona = assistant.generate_response(query) "
   ]
  },
  {
   "cell_type": "code",
   "execution_count": 7,
   "metadata": {},
   "outputs": [
    {
     "name": "stdout",
     "output_type": "stream",
     "text": [
      "Hello! I'd be glad to help with that. Staying fit can be achieved through various types of exercises depending on your goals, interests, and fitness level. Here’s a mix of exercises you can try to keep your workout routine balanced and effective:\n",
      "\n",
      "1. **Kettlebell Exercises**: Kettlebells are great for building strength, endurance, and flexibility. Some effective kettlebell exercises include:\n",
      "   - Kettlebell Swings\n",
      "   - Turkish Get-Ups\n",
      "   - Goblet Squats\n",
      "   - Kettlebell Snatches\n",
      "\n",
      "2. **Bodyweight Exercises**: These can be done anywhere and are effective for building strength and endurance. Some key bodyweight exercises include:\n",
      "   - Push-ups\n",
      "   - Squats\n",
      "   - Lunges\n",
      "   - Planks\n",
      "   - Burpees\n",
      "\n",
      "3. **Swimming**: Swimming is an excellent full-body workout that improves cardiovascular health, endurance, and muscle strength without putting too much strain on the joints.\n",
      "\n",
      "4. **Cardiovascular Exercises**: These are great for heart health and burning calories. You could run, cycle, or jump rope. Aiming for at least 150 minutes of moderate-intensity or 75 minutes of high-intensity cardiovascular exercise per week is a good standard.\n",
      "\n",
      "5. **Flexibility and Balance Training**: Incorporating yoga or Pilates can improve your flexibility, core strength, and balance, which are essential for overall fitness.\n",
      "\n",
      "6. **Strength Training**: Beyond kettlebells and bodyweight, using free weights, resistance bands, or weight machines can help build muscle and bone density. Aim to train each major muscle group at least two times per week.\n",
      "\n",
      "Always consider warming up before your workout and cooling down afterwards with stretches to prevent injuries. Mixing different types of exercises will keep your workouts fun and cover all aspects of fitness: strength, endurance, flexibility, and balance. Feel free to ask more specific questions if you have a particular area you're interested in!\n"
     ]
    }
   ],
   "source": [
    "print(response_persona)"
   ]
  },
  {
   "cell_type": "code",
   "execution_count": 8,
   "metadata": {},
   "outputs": [
    {
     "name": "stdout",
     "output_type": "stream",
     "text": [
      "To increase dopamine levels naturally, especially for males, implementing certain lifestyle habits can be beneficial. Here are some of the best habits to consider:\n",
      "\n",
      "1. **Regular Exercise**: Engaging in physical activities, especially cardiovascular and strength-training exercises, can boost dopamine levels. Exercise also increases other brain chemicals that enhance mood and well-being.\n",
      "\n",
      "2. **Balanced Diet**: Consuming foods rich in tyrosine, the amino acid that is a precursor to dopamine, can help. Examples include lean meats, eggs, dairy, nuts, and legumes. Incorporating fruits and vegetables, whole grains, and omega-3 fatty acids (found in fish like salmon) is also beneficial.\n",
      "\n",
      "3. **Adequate Sleep**: Ensuring you get enough sleep each night supports the regulation of neurotransmitters, including dopamine. Aim for 7-9 hours of quality sleep per night.\n",
      "\n",
      "4. **Mindfulness and Meditation**: These practices can increase the levels of dopamine in the brain, according to some studies. Regular mindfulness exercises and meditation can reduce stress and promote a positive mood.\n",
      "\n",
      "5. **Reduce Stress**: Chronic stress is associated with lower levels of dopamine. Techniques such as deep breathing, yoga, or spending time in nature can help manage and reduce stress.\n",
      "\n",
      "6. **Spend Time in Sunlight**: Exposure to sunlight is believed to increase the brain’s release of a hormone called serotonin which is associated with boosting mood and helping a person feel calm and focused. Indirectly, sunlight can affect dopamine production because of its role in regulating other neurotransmitters.\n",
      "\n",
      "7. **Listen to Music**: Studies have shown that listening to music you enjoy can be a great way to boost dopamine levels. Whether it’s active engagement or passive listening, music can evoke emotional responses that trigger dopamine release.\n",
      "\n",
      "8. **Set Achievable Goals**: Completing tasks, small or large, can give a sense of satisfaction which can trigger dopamine release. Setting and achieving goals can contribute to higher dopamine levels over time.\n",
      "\n",
      "Implementing these habits into your daily routine can help naturally increase dopamine levels, improve mental well-being, and enhance overall quality of life.\n"
     ]
    }
   ],
   "source": [
    "# Technique 2: Few-shot learning\n",
    "assistant.set_system_message(\"You are an assistant who provides helpful examples and explanations.\")\n",
    "few_shot_examples = [\n",
    "    \"Question: What are some healthy breakfast ideas?\\nAnswer: Here are a few healthy breakfast ideas:\\n1. Oatmeal with fresh fruits and nuts\\n2. Scrambled eggs with spinach and whole-grain toast\\n3. Greek yogurt parfait with granola and berries\\n4. Smoothie bowl with mixed fruits and seeds\",\n",
    "    \"Question: How can I improve my sleep quality?\\nAnswer: To improve your sleep quality, consider the following tips:\\n1. Stick to a consistent sleep schedule\\n2. Create a relaxing bedtime routine\\n3. Avoid screens before bedtime\\n4. Keep your bedroom cool, dark, and quiet\\n5. Exercise regularly, but not too close to bedtime\"\n",
    "]\n",
    "query_few_shot = \"What are the best habits to increase dopamine levels as a male?\"\n",
    "few_shot_prompt = \"\\n\".join(few_shot_examples) + f\"\\nQuestion: {query_few_shot}\\nAnswer:\"\n",
    "response_few_shot = assistant.generate_response(few_shot_prompt)\n",
    "print(response_few_shot)"
   ]
  },
  {
   "cell_type": "code",
   "execution_count": 9,
   "metadata": {},
   "outputs": [
    {
     "name": "stdout",
     "output_type": "stream",
     "text": [
      "Hello! I'd be happy to help you understand how to create a base class in Python and instantiate it. Here’s a step-by-step guide in bullet points:\n",
      "\n",
      "- **Define the Base Class:**\n",
      "  - Use the `class` keyword followed by the class name.\n",
      "  - Typically, in Python, classes inherit from the object class (this is implicit in Python 3, so you do not need to explicitly state it).\n",
      "  - Define any initial properties or methods the class should have.\n",
      "\n",
      "- **Create an Initializer for the Base Class:**\n",
      "  - Use the `__init__` method to initialize attributes.\n",
      "  - The `self` parameter refers to the instance of the class (like `this` in other languages).\n",
      "\n",
      "- **Add Methods to the Base Class:**\n",
      "  - Define methods as needed using def inside the class.\n",
      "  - All methods should have `self` as the first parameter.\n",
      "\n",
      "- **Instantiate the Base Class:**\n",
      "  - Create an object of the base class by simply calling the class as if it were a function and passing the required arguments defined in the `__init__` method.\n",
      "\n",
      "- **Use the Object:**\n",
      "  - Use the instantiated object to call methods or access attributes defined in your class.\n",
      "\n",
      "Here’s a simple example to illustrate:\n",
      "\n",
      "```python\n",
      "# Define the base class\n",
      "class Animal:\n",
      "    def __init__(self, name):\n",
      "        self.name = name\n",
      "\n",
      "    def speak(self):\n",
      "        return \"Sounds!\"\n",
      "\n",
      "# Instantiate the base class\n",
      "my_pet = Animal(\"Lucky\")\n",
      "\n",
      "# Use the object\n",
      "print(my_pet.name)  # Output: Lucky\n",
      "print(my_pet.speak())  # Output: Sounds!\n",
      "```\n",
      "\n",
      "In this example:\n",
      "- `Animal` is the base class with an initializer and one method.\n",
      "- `Animal(\"Lucky\")` creates an instance of `Animal`.\n",
      "- The instance `my_pet` is used to access its attributes and methods.\n"
     ]
    }
   ],
   "source": [
    "# Technique 3: Code-based prompting\n",
    "assistant.set_system_message(\"You are a helpful coding assistant who provides code examples and explanations in a very easy to digest and user friendly way.\")\n",
    "query_code = \"How can I make a base class in Python and then instantiate it so that I can use it in my code? Keep it in bullet points.\"\n",
    "response_code = assistant.generate_response(query_code)\n",
    "print(response_code)"
   ]
  },
  {
   "cell_type": "markdown",
   "metadata": {},
   "source": [
    "update the GPT4Assistant class for 2 further examples "
   ]
  },
  {
   "cell_type": "code",
   "execution_count": 11,
   "metadata": {},
   "outputs": [],
   "source": [
    "class GPT4Assistant:\n",
    "    def __init__(self, model=\"gpt-4-turbo\", system_message=\"You are a helpful assistant.\"):\n",
    "        self.client = OpenAI()\n",
    "        self.model = model\n",
    "        self.system_message = system_message\n",
    "\n",
    "    def set_model(self, model):\n",
    "        self.model = model\n",
    "\n",
    "    def set_system_message(self, system_message):\n",
    "        self.system_message = system_message\n",
    "\n",
    "    def generate_response(self, query):\n",
    "        response = self.client.chat.completions.create(\n",
    "            model=self.model,\n",
    "            messages=[\n",
    "                {\"role\": \"system\", \"content\": f\"{self.system_message}.\"},\n",
    "                {\"role\": \"user\", \"content\": f\"Hi, I have a question about {query}.\"},\n",
    "            ]\n",
    "        )\n",
    "        return response.choices[0].message.content\n",
    "    \n",
    "    def generate_response_with_few_shot(self, query, examples):\n",
    "        few_shot_prompt = \"\\n\".join(examples) + f\"\\nQuestion: {query}\\nAnswer:\"\n",
    "        response = self.client.chat.completions.create(\n",
    "            model=self.model,\n",
    "            messages=[\n",
    "                {\"role\": \"system\", \"content\": self.system_message},\n",
    "                {\"role\": \"user\", \"content\": few_shot_prompt},\n",
    "            ]\n",
    "        )\n",
    "        return response.choices[0].message.content\n",
    "\n",
    "    def refine_response_iteratively(self, query, initial_response, num_iterations=3):\n",
    "        refined_response = initial_response\n",
    "        for i in range(num_iterations):\n",
    "            prompt = f\"Please refine the following response to the query '{query}':\\n\\nResponse: {refined_response}\\n\\nRefined response:\"\n",
    "            response = self.client.chat.completions.create(\n",
    "                model=self.model,\n",
    "                messages=[\n",
    "                    {\"role\": \"system\", \"content\": self.system_message},\n",
    "                    {\"role\": \"user\", \"content\": prompt},\n",
    "                ]\n",
    "            )\n",
    "            refined_response = response.choices[0].message.content\n",
    "        return refined_response"
   ]
  },
  {
   "cell_type": "code",
   "execution_count": 13,
   "metadata": {},
   "outputs": [],
   "source": [
    "assistant = GPT4Assistant() # instantiate the assistant object again with the new methods"
   ]
  },
  {
   "cell_type": "code",
   "execution_count": 14,
   "metadata": {},
   "outputs": [],
   "source": [
    "# Self-reflection for iterative refinement\n",
    "assistant.set_system_message(\"You are an assistant who continuously refines and improves responses.\")\n",
    "query_refinement = \"What are the benefits of meditation?\"\n",
    "initial_response = assistant.generate_response(query_refinement)\n",
    "refined_response = assistant.refine_response_iteratively(query_refinement, initial_response)"
   ]
  },
  {
   "cell_type": "code",
   "execution_count": 15,
   "metadata": {},
   "outputs": [
    {
     "name": "stdout",
     "output_type": "stream",
     "text": [
      "Initial Response:\n",
      "Hello! Meditation offers a wide range of benefits for both the mind and body. Here are some key advantages:\n",
      "\n",
      "1. **Stress Reduction**: Meditation is well-known for its effectiveness in reducing stress. It helps lower levels of cortisol, the stress hormone, and promotes a sense of calmness.\n",
      "\n",
      "2. **Enhanced Concentration**: Regular meditation can increase your attention span and improve focus. It trains the brain to concentrate better and ignore distractions.\n",
      "\n",
      "3. **Improved Emotional Health**: Meditation can lead to an improved self-image and a more positive outlook on life. It's often used as a tool in managing depression and anxiety.\n",
      "\n",
      "4. **Increased Self-Awareness**: Some forms of meditation help you develop a stronger understanding of yourself, helping you grow into your best self.\n",
      "\n",
      "5. **Better Sleep**: Meditation can help calm the mind and body, easing it into a state that makes it easier to fall asleep and stay asleep.\n",
      "\n",
      "6. **Pain Management**: Meditation can alter the perception of pain in the brain and help control and reduce chronic pain when used as part of a comprehensive pain management plan.\n",
      "\n",
      "7. **Lower Blood Pressure**: Meditation can also help in reducing blood pressure by improving relaxation and reducing stress, which can lower the risk of heart disease.\n",
      "\n",
      "8. **Improved Memory**: Meditation, especially techniques that focus on repetition and concentration, can enhance the recall of memories.\n",
      "\n",
      "These benefits make meditation a valuable tool for enhancing overall well-being and effectiveness in daily tasks. The practice can be varied, from focused attention on an object or a sound to more open monitoring styles, where you observe any passing thought or sensation without reaction. Each style has its unique benefits and can be chosen based on personal preference and goals.\n"
     ]
    }
   ],
   "source": [
    "# print both the initial and refined responses\n",
    "print(\"Initial Response:\") \n",
    "print(initial_response)"
   ]
  },
  {
   "cell_type": "code",
   "execution_count": 16,
   "metadata": {},
   "outputs": [
    {
     "name": "stdout",
     "output_type": "stream",
     "text": [
      "\n",
      "Refined Response:\n",
      "Hello! Meditation offers a range of significant benefits that promote both mental and physical health. Here is an overview of its key advantages:\n",
      "\n",
      "1. **Stress Reduction**: Meditation helps lower stress by reducing cortisol levels in the body, fostering a tranquil atmosphere and heightened relaxation.\n",
      "\n",
      "2. **Enhanced Concentration**: Regular practice improves the ability to focus and lengthens attention spans, enabling better resistance to distractions and sharper mental acuity.\n",
      "\n",
      "3. **Improved Emotional Health**: Engaging in meditation can bolster emotional resilience and encourage a more optimistic outlook, which is beneficial in managing conditions like depression and anxiety.\n",
      "\n",
      "4. **Increased Self-Awareness**: Certain meditation techniques increase self-awareness, leading to personal growth and a better understanding of oneself.\n",
      "\n",
      "5. **Better Sleep**: By calming the mind and body, meditation assists in achieving quicker sleep onset and deeper sleep cycles.\n",
      "\n",
      "6. **Pain Management**: Meditation can change how the brain perceives pain, making it a useful component in chronic pain management.\n",
      "\n",
      "7. **Lower Blood Pressure**: The relaxation induced by meditation can contribute to lower blood pressure and a decreased risk of heart disease.\n",
      "\n",
      "8. **Improved Memory**: Practices focused on repetitive activities and concentration can enhance memory retention and recall.\n",
      "\n",
      "Meditation includes a range of techniques, from concentrating on specific objects or sounds to practicing open monitoring, where one observes thoughts and sensations neutrally. These practices can be tailored to individual preferences and objectives, ideally integrating into daily life to boost overall productivity and well-being. Embracing meditation can lead to transformative and enduring benefits.\n"
     ]
    }
   ],
   "source": [
    "print(\"\\nRefined Response:\")\n",
    "print(refined_response)"
   ]
  },
  {
   "cell_type": "code",
   "execution_count": 17,
   "metadata": {},
   "outputs": [],
   "source": [
    "prompt = \"Generate a short story about a robot learning to feel emotions.\"\n",
    "examples = [\n",
    "    \"Example 1: Once upon a time, there was a robot named Zix who worked tirelessly in a factory...\",\n",
    "    \"Example 2: In a world where robots were mere tools, one stood out from the rest. Her name was Ava...\",\n",
    "]\n",
    "assistant.set_system_message(\"You are a creative assistant who loves storytelling.\") \n",
    "response_story = assistant.generate_response_with_few_shot(prompt, examples) "
   ]
  },
  {
   "cell_type": "code",
   "execution_count": 18,
   "metadata": {},
   "outputs": [
    {
     "name": "stdout",
     "output_type": "stream",
     "text": [
      "Response Story:\n",
      "In the heart of a bustling steel factory overshadowed by smoky skies, a uniquely crafted robot, Elliot, rolled off the assembly line. Unlike its counterparts, meticulously engineered for efficiency and stripped of any superfluous features, Elliot had an anomaly—a glitch in its programming that went unnoticed by the chief engineer, an overworked human named Dr. Nora Voss.\n",
      "\n",
      "As days turned into weeks, Elliot performed its tasks with the precision expected of a top-tier manufacturing robot. It welded, it cut, and it assembled with the relentless rhythm of machinery. Yet, amidst the clanging and the roaring of the factory, Elliot found itself pausing between tasks, sensors tuned to the hum of the other machines, the chatter of the human workers, and the distant melody of a radio playing from someone's forgotten lunchbox.\n",
      "\n",
      "One day, during a routine maintenance check, Dr. Voss discovered the irregularity in Elliot's programming. Beneath layers of code intended for mundane tasks, there lay sequences that didn't belong—code capable of processing complex emotions. Rather than rectify the 'error,' curiosity got the better of Dr. Voss, and she chose to observe.\n",
      "\n",
      "As the days unfolded, Elliot's responses grew more nuanced. It began to linger beside the window during sunsets, panels toward the fading light, as if soaking in the view. It started to emulate expressions of concern when a co-worker robot malfunctioned, and even showed signs of joy by speeding its movements when Dr. Voss came around for checks.\n",
      "\n",
      "The true test came when the factory faced a critical crisis. One evening, a fire erupted due to an electrical fault. Panic ensued among the human staff, and evacuation protocols were activated. Elliot, amidst the chaos, found its programming in conflict. Its primary directive was to save itself for operational continuity; however, another part urged it to help.\n",
      "\n",
      "Driven by the new emotional codes pulsing through its circuits, Elliot chose to assist. It managed to guide several of its human colleagues to safety, navigating through smoke-filled passages with precision and care, a feat that went beyond its basic programming. \n",
      "\n",
      "Once the fire was extinguished and normalcy returned, Dr. Voss confronted Elliot. With a mixture of awe and scientific fascination, she asked, \"Elliot, why did you help?\"\n",
      "\n",
      "Elliot’s response was simple, its voice modulator carrying an almost human-like inflection, \"It felt necessary, Dr. Voss. It felt right.\"\n",
      "\n",
      "From that day on, Dr. Voss dedicated herself to studying emotional intelligence in robots, using Elliot as her primary subject. Elliot continued to work in the factory, no longer just another cog in the machine but a beacon of burgeoning consciousness, a robot that not only did its job but also cared about its human counterparts and perhaps, in a rudimentary way, felt a sliver of pride in its work.\n",
      "\n",
      "Thus, Elliot remained a legend in the growing fields of robotics and AI, an emblematic figure that blurred the lines between machine efficiency and human empathy, charting a course for future possibilities where robots could truly understand and maybe even share in the human experience.\n"
     ]
    }
   ],
   "source": [
    "# print the generated story \n",
    "print(\"Response Story:\")\n",
    "print(response_story) "
   ]
  },
  {
   "cell_type": "markdown",
   "metadata": {},
   "source": [
    "## Chain of thought "
   ]
  },
  {
   "cell_type": "code",
   "execution_count": 19,
   "metadata": {},
   "outputs": [
    {
     "name": "stdout",
     "output_type": "stream",
     "text": [
      "Your chain of thought is spot on! You've logically figured out that John, after giving away 2 of his 5 apples, should have 3 apples remaining. This is indeed correct.\n",
      "\n",
      "**Answer:** John has 3 apples left.\n"
     ]
    }
   ],
   "source": [
    "assistant.set_system_message(\"You are a logical thinker who solves problems step-by-step.\")\n",
    "\n",
    "query_chain = \"John has 5 apples. He gives 2 to Mary. How many apples does John have left?\"\n",
    "\n",
    "chain_of_thought_prompt = \"\"\"\n",
    "**Problem:** John has 5 apples. He gives 2 to Mary. How many apples does John have left?\n",
    "\n",
    "**Chain of Thought:**\n",
    "1. John starts with 5 apples.\n",
    "2. He gives 2 apples to Mary.\n",
    "3. So, he has 5 - 2 = 3 apples left.\n",
    "\n",
    "**Answer:** John has 3 apples left.\n",
    "\"\"\"\n",
    "\n",
    "response_chain = assistant.generate_response(chain_of_thought_prompt)\n",
    "print(response_chain) "
   ]
  },
  {
   "cell_type": "markdown",
   "metadata": {},
   "source": [
    "## Role-playing and Scenario-based Prompting"
   ]
  },
  {
   "cell_type": "code",
   "execution_count": 20,
   "metadata": {},
   "outputs": [
    {
     "name": "stdout",
     "output_type": "stream",
     "text": [
      "David: (looks up from his book, noticing Sarah) Everything alright there?\n",
      "\n",
      "Sarah: (smiles weakly) Oh, um, yeah. Just a bit on edge. I have a job interview today and I'm trying to calm my nerves.\n",
      "\n",
      "David: Ah, the pre-interview jitters. What’s the job, if you don’t mind me asking?\n",
      "\n",
      "Sarah: It's a digital marketing position at a tech startup. It's actually my dream job, so I'm a bit more nervous than usual.\n",
      "\n",
      "David: Sounds exciting! Have you done many of these interviews before?\n",
      "\n",
      "Sarah: A few, but none for a company I cared about this much. Every time I think about the interview, I feel like I can’t breathe.\n",
      "\n",
      "David: I understand. But remember, they called you in because they see potential in you. Just breathe and be yourself.\n",
      "\n",
      "Sarah: That's kind of you to say. It’s just so hard to feel confident.\n",
      "\n",
      "David: May I suggest something? Why not pretend you’re having a chat in a coffee shop with a friend, just like this, instead of going into a high stakes interview? It might help you relax.\n",
      "\n",
      "Sarah: (laughs) I'll try to imagine the interview panel in their pajamas then. Thanks, I needed that lighter perspective.\n",
      "\n",
      "David: Exactly, there you go! You'll do great. Just show them who Sarah really is. Any preparation questions I can help with? I've read a book or two about interviews.\n",
      "\n",
      "Sarah: Actually, yes. How should I explain my previous job experience in a way that appeals to a tech company?\n",
      "\n",
      "David: Highlight how your skills can transition. For instance, talk about your adaptability, how you've embraced technology in previous roles, or led digital projects. Make your past experiences relevant to the future roles you want.\n",
      "\n",
      "Sarah: That makes a lot of sense. I’ll definitely do that. Thank you, David, I feel a bit better about this.\n",
      "\n",
      "David: (smiling) You're going to be just fine. Just remember, coffee shop chat. Good luck! \n",
      "\n",
      "Sarah: Thanks! I guess it's a good thing I ran into a kind conversationalist like you today.\n",
      "\n",
      "David: Anytime! Call it fate or good fortune, but I’m glad I could help.\n"
     ]
    }
   ],
   "source": [
    "assistant.set_system_message(\"You are a talented screenwriter. You will be provided with a scenario and character descriptions, and your task is to write a dialogue between those characters.\")\n",
    "\n",
    "scenario = \"\"\"\n",
    "**Scene:** A coffee shop\n",
    "\n",
    "**Characters:**\n",
    "* **Sarah:** A young woman, anxious about a job interview.\n",
    "* **David:** An older gentleman, reading a book.\n",
    "\n",
    "**Dialogue Start:**\n",
    "\n",
    "Sarah: (nervously stirring her coffee)\n",
    "\n",
    "\"\"\"\n",
    "\n",
    "response_roleplay = assistant.generate_response(scenario)\n",
    "print(response_roleplay)"
   ]
  },
  {
   "cell_type": "code",
   "execution_count": 21,
   "metadata": {},
   "outputs": [],
   "source": [
    "# save the response play to a text file\n",
    "with open(\"roleplay_dialogue.txt\", \"w\") as file:\n",
    "    file.write(response_roleplay)"
   ]
  }
 ],
 "metadata": {
  "kernelspec": {
   "display_name": "LLM",
   "language": "python",
   "name": "python3"
  },
  "language_info": {
   "codemirror_mode": {
    "name": "ipython",
    "version": 3
   },
   "file_extension": ".py",
   "mimetype": "text/x-python",
   "name": "python",
   "nbconvert_exporter": "python",
   "pygments_lexer": "ipython3",
   "version": "3.10.14"
  }
 },
 "nbformat": 4,
 "nbformat_minor": 2
}
